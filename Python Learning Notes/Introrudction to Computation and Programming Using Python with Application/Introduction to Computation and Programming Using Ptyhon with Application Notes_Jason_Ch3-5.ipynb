{
 "cells": [
  {
   "cell_type": "markdown",
   "metadata": {},
   "source": [
    "# 3. Some Simple Numerical Programs\n",
    "## 3.1 Exhaustive Enumeration\n",
    "The code below prints the integer cube root, if it exists, of an integer. If the input is not a perfect cube, it prints a message to that effect. "
   ]
  },
  {
   "cell_type": "code",
   "execution_count": null,
   "metadata": {},
   "outputs": [],
   "source": [
    "#find the cube root of a perfect cube\n",
    "x = int(input('Enter an integer: '))\n",
    "ans = 0\n",
    "while ans**3 < abs(x):\n",
    "    ans = ans + 1\n",
    "if ans**3 != abs(x):\n",
    "    print(x,'is not a perfect cube')\n",
    "else:\n",
    "    if x < 0:\n",
    "        ans= -ans\n",
    "    print ('Cube root of',x,'is',ans)"
   ]
  },
  {
   "cell_type": "markdown",
   "metadata": {},
   "source": [
    "How the program runs? \n",
    "- The value of the expression `ans**3` starts at 0, and gets larger each step\n",
    "- When it reaches or exceeds `abs(x)`, the loop terminates\n",
    "- Since `abs(x)` is always positive, there are only a finite number of iterations before the loop must terminate.\n",
    "\n",
    "When writing a loop, we need to think about an appropriate **decrementing function**. This is a function that has the following properties:\n",
    "- It maps a set of program variables into an integer.\n",
    "- When the loop is entered, its value is non-negative\n",
    "- When its value is <= 0, the loop terminates\n",
    "- Its value is decreased every time through the loop"
   ]
  },
  {
   "cell_type": "markdown",
   "metadata": {},
   "source": [
    "The *algorithmic technique* used in this program is a variance of **guess and check** called **exhaustive enumeration**.\n",
    "- pratical way to solve problem\n",
    "- easy to implement\n",
    "- easy to understand"
   ]
  },
  {
   "cell_type": "markdown",
   "metadata": {},
   "source": [
    "## 3.2 For Loops"
   ]
  },
  {
   "cell_type": "code",
   "execution_count": null,
   "metadata": {},
   "outputs": [],
   "source": [
    "x=4\n",
    "for j in range(x):\n",
    "    for i in range(x):\n",
    "        print(i)\n",
    "        x = 2"
   ]
  },
  {
   "cell_type": "markdown",
   "metadata": {},
   "source": [
    "Notice how the output changes. This is because the `range` function in *outer loop* is evaluated only once, but the `range` function in the *inner loop* is evaluated each time the inner `for` statement is reached."
   ]
  },
  {
   "cell_type": "markdown",
   "metadata": {},
   "source": [
    "## 3.3 Approximate Solutions and Bisection Search\n",
    "E.g Finds the square root of 2 using exhaustive enumeration.<br>"
   ]
  },
  {
   "cell_type": "code",
   "execution_count": null,
   "metadata": {},
   "outputs": [],
   "source": [
    "def sqrt_root(x):\n",
    "    epsilon=0.01\n",
    "    step=epsilon**2\n",
    "    #number of guesses\n",
    "    numGuesses=0\n",
    "    ans=0.0\n",
    "\n",
    "    while abs(ans**2 -x) >= epsilon and ans <=x:\n",
    "        ans += step\n",
    "        numGuesses+=1\n",
    "    print ('number of guesses made: ',numGuesses)\n",
    "\n",
    "    if abs(ans**2 -x) >= epsilon:\n",
    "        print  ('Failed to find square root of ',x)\n",
    "    else:\n",
    "        print (ans,' is close to square root of ',x)"
   ]
  },
  {
   "cell_type": "code",
   "execution_count": null,
   "metadata": {},
   "outputs": [],
   "source": [
    "sqrt_root(5)"
   ]
  },
  {
   "cell_type": "code",
   "execution_count": null,
   "metadata": {},
   "outputs": [],
   "source": [
    "sqrt_root(0.25)"
   ]
  },
  {
   "cell_type": "markdown",
   "metadata": {},
   "source": [
    "Note that exhaustive enumeration is a search technique that works only if the set of values being searched includes the answer. "
   ]
  },
  {
   "cell_type": "code",
   "execution_count": null,
   "metadata": {},
   "outputs": [],
   "source": [
    "sqrt_root(123456)"
   ]
  },
  {
   "cell_type": "markdown",
   "metadata": {},
   "source": [
    "### Bisection Search"
   ]
  },
  {
   "cell_type": "code",
   "execution_count": null,
   "metadata": {},
   "outputs": [],
   "source": [
    "def bi_sqrt_root(x):\n",
    "    epsilon=0.01\n",
    "    numGuesses=0\n",
    "    low=0.0\n",
    "    high=max(1.0,x)\n",
    "    ans = (high+low)/2.0\n",
    "    while abs(ans**2 -x) >= epsilon:\n",
    "        print ('low=',low,'high=',high,'ans=',ans)\n",
    "        numGuesses+=1\n",
    "        if ans**2 <x:\n",
    "            low=ans\n",
    "        else:\n",
    "            high=ans\n",
    "        ans=(high+low)/2.0\n",
    "    print ('number of guesses made:',numGuesses)\n",
    "    print (ans,'is close to square root of',x)"
   ]
  },
  {
   "cell_type": "code",
   "execution_count": null,
   "metadata": {},
   "outputs": [],
   "source": [
    "bi_sqrt_root(5)"
   ]
  },
  {
   "cell_type": "code",
   "execution_count": null,
   "metadata": {},
   "outputs": [],
   "source": [
    "bi_sqrt_root(123456)"
   ]
  },
  {
   "cell_type": "markdown",
   "metadata": {},
   "source": [
    "Notice that using bisection is much faster comapred to exhaustive search because it divides the search space **in half at each step**. It reduced the search space by only a small amount at each iteration."
   ]
  },
  {
   "cell_type": "markdown",
   "metadata": {},
   "source": [
    "# 4 Functions, scoping and abstraction"
   ]
  },
  {
   "cell_type": "code",
   "execution_count": 4,
   "metadata": {},
   "outputs": [
    {
     "name": "stdout",
     "output_type": "stream",
     "text": [
      "x= 4\n",
      "z= 4\n",
      "x= abc\n",
      "x= 4\n",
      "x= 3\n",
      "z= <function f.<locals>.g at 0x000001F1FDB2A9D8>\n",
      "x= abc\n"
     ]
    }
   ],
   "source": [
    "def f(x):\n",
    "    def g():\n",
    "        x='abc'\n",
    "        print ('x=',x)\n",
    "    def h():\n",
    "        z = x\n",
    "        print ('z=',z)\n",
    "    x +=1\n",
    "    print ('x=',x)\n",
    "    h()\n",
    "    g()\n",
    "    print ('x=',x)\n",
    "    return g\n",
    "\n",
    "x=3\n",
    "z=f(x)\n",
    "print ('x=',x)\n",
    "print ('z=',z)\n",
    "z()"
   ]
  },
  {
   "attachments": {
    "image.png": {
     "image/png": "[encoded data removed]"
    }
   },
   "cell_type": "markdown",
   "metadata": {},
   "source": [
    "![image.png](attachment:image.png)\n",
    "Execution sequence:\n",
    "- `z=f(x)` is first evaluated by invoking function f with value `x=3`.When f is entered, a stack frame is created as shown in column2. The names in the stack frame are `x` (the formal parameters), `g` and `h`. The varaibles `g` and `h` are bound to objects of type `function`.The properties of these functions are given by the function definitions within `f`.\n",
    "- When `h` is invoked from within `f`, another stack frame is created as shown in column3, contains only the local variable `z`.When `h` returns, the stack frame asscoaited with the invocation of `h` goes away as shown in column4. \n",
    "- Next, `g` is invoked, and a stack frame containing `g`'s local variable `x` is added."
   ]
  },
  {
   "cell_type": "code",
   "execution_count": null,
   "metadata": {},
   "outputs": [],
   "source": [
    "z()"
   ]
  },
  {
   "cell_type": "code",
   "execution_count": null,
   "metadata": {},
   "outputs": [],
   "source": [
    "x"
   ]
  },
  {
   "cell_type": "code",
   "execution_count": 2,
   "metadata": {},
   "outputs": [
    {
     "name": "stdout",
     "output_type": "stream",
     "text": [
      "x= 4\n",
      "z= 4\n",
      "x= abcdefg\n",
      "x= 4\n",
      "x= 3\n",
      "z= <function f.<locals>.g at 0x000001F1FD700B70>\n",
      "x= abcdefg\n"
     ]
    }
   ],
   "source": [
    "def f(x):\n",
    "    def g():\n",
    "        x='abcdefg'\n",
    "        print ('x=',x)\n",
    "    def h():\n",
    "        z = x\n",
    "        print ('z=',z)\n",
    "    x +=1\n",
    "    print ('x=',x)\n",
    "    h()\n",
    "    g()\n",
    "    print ('x=',x)\n",
    "    return g\n",
    "\n",
    "x=3\n",
    "z=f(x)\n",
    "print ('x=',x)\n",
    "print ('z=',z)\n",
    "z()"
   ]
  },
  {
   "cell_type": "code",
   "execution_count": 3,
   "metadata": {},
   "outputs": [
    {
     "name": "stdout",
     "output_type": "stream",
     "text": [
      "x= abcdefg\n"
     ]
    }
   ],
   "source": [
    "z()"
   ]
  },
  {
   "cell_type": "code",
   "execution_count": 5,
   "metadata": {},
   "outputs": [
    {
     "data": {
      "text/plain": [
       "<function __main__.f.<locals>.g()>"
      ]
     },
     "execution_count": 5,
     "metadata": {},
     "output_type": "execute_result"
    }
   ],
   "source": [
    "z"
   ]
  },
  {
   "cell_type": "markdown",
   "metadata": {},
   "source": [
    "## 4.2 Specifications"
   ]
  },
  {
   "cell_type": "code",
   "execution_count": 1,
   "metadata": {},
   "outputs": [],
   "source": [
    "def findRoot(x,power,epsilon):\n",
    "    \"\"\"Assumes x and epsilon int or float, power an int, \n",
    "        epsilon >=0 and power >=1\n",
    "        Returns float y such that y**power is within epsilon of x.\n",
    "        If such a float does not exist, it returns None\"\"\"\n",
    "    if x < 0 and power%2 ==0: #negative number has no even-powered roots\n",
    "        \n",
    "        return None\n",
    "    low=min(-1.0,x)\n",
    "    high=max(1.0,x)\n",
    "    ans = (high+low)/2.0\n",
    "    while abs(ans**power -x) >= epsilon:\n",
    "        if ans**power <x:\n",
    "            low=ans\n",
    "        else:\n",
    "            high=ans\n",
    "        ans = (high +low)/2.0\n",
    "    return ans\n",
    "\n",
    "def testFindRoot():\n",
    "    epsilon=0.0001\n",
    "    for x in [0.25,-0.25,2,-2,8,-8]:\n",
    "        for power in range(1,4):\n",
    "            print ('Testing x=',str(x),'and power= ',power)\n",
    "            result=findRoot(x,power,epsilon)\n",
    "            if result==None:\n",
    "                print (' No root')\n",
    "            else:\n",
    "                print (' ',result**power,'~=', x)"
   ]
  },
  {
   "cell_type": "code",
   "execution_count": 2,
   "metadata": {},
   "outputs": [
    {
     "name": "stdout",
     "output_type": "stream",
     "text": [
      "Help on function findRoot in module __main__:\n",
      "\n",
      "findRoot(x, power, epsilon)\n",
      "    Assumes x and epsilon int or float, power an int, \n",
      "    epsilon >=0 and power >=1\n",
      "    Returns float y such that y**power is within epsilon of x.\n",
      "    If such a float does not exist, it returns None\n",
      "\n"
     ]
    }
   ],
   "source": [
    "help(findRoot)"
   ]
  },
  {
   "cell_type": "markdown",
   "metadata": {},
   "source": [
    "A **specification** of a function defines a contract between the implementer of a function and those who will be writing programs that use the function.The users of a function are **clients**.This contract can be thought of as containing two parts:\n",
    "- **Assumptions**: These describe conditions that must be met by clients of the function. They specify the acceptable set of types for each parameters, and some constraints on the value of one or more of the parameters. \n",
    "- **Guarantees**: These describe conditions that must be met by the function, provided that it has been called in a way that satisfied the assumption. "
   ]
  },
  {
   "cell_type": "markdown",
   "metadata": {},
   "source": [
    "## 4.3 Recursion\n",
    "World's simplest recursive definition is the factorial function. "
   ]
  },
  {
   "cell_type": "code",
   "execution_count": 3,
   "metadata": {},
   "outputs": [],
   "source": [
    "#interative implementation\n",
    "def factI(n):\n",
    "    \"\"\" Assumes n an int>0\n",
    "        Returns n!\"\"\"\n",
    "    result = 1\n",
    "    while n>1:\n",
    "        result *=n\n",
    "        n-=1\n",
    "    return result"
   ]
  },
  {
   "cell_type": "code",
   "execution_count": 4,
   "metadata": {},
   "outputs": [],
   "source": [
    "#recursive implementation\n",
    "def factR(n):\n",
    "    \"\"\" Assumes n an int > 0\n",
    "        Returns n!\"\"\"\n",
    "    if n ==1:\n",
    "        return n\n",
    "    else:\n",
    "        return n*factR(n-1)"
   ]
  },
  {
   "cell_type": "code",
   "execution_count": 5,
   "metadata": {},
   "outputs": [
    {
     "name": "stdout",
     "output_type": "stream",
     "text": [
      "120 120\n"
     ]
    }
   ],
   "source": [
    "print (factI(5),factR(5))"
   ]
  },
  {
   "cell_type": "code",
   "execution_count": 19,
   "metadata": {},
   "outputs": [],
   "source": [
    "#visualization of factorial\n",
    "def factorial(n):\n",
    "    print ('factorial has been called with n= '+str(n))\n",
    "    if n==1:\n",
    "        return 1\n",
    "    else:\n",
    "        result=n*factorial(n-1)\n",
    "        print ('intermediate result for',n,'* factorial(',n-1,'): ',result)\n",
    "        return result"
   ]
  },
  {
   "cell_type": "code",
   "execution_count": 20,
   "metadata": {},
   "outputs": [
    {
     "name": "stdout",
     "output_type": "stream",
     "text": [
      "factorial has been called with n= 5\n",
      "factorial has been called with n= 4\n",
      "factorial has been called with n= 3\n",
      "factorial has been called with n= 2\n",
      "factorial has been called with n= 1\n",
      "intermediate result for 2 * factorial( 1 ):  2\n",
      "intermediate result for 3 * factorial( 2 ):  6\n",
      "intermediate result for 4 * factorial( 3 ):  24\n",
      "intermediate result for 5 * factorial( 4 ):  120\n"
     ]
    },
    {
     "data": {
      "text/plain": [
       "120"
      ]
     },
     "execution_count": 20,
     "metadata": {},
     "output_type": "execute_result"
    }
   ],
   "source": [
    "factorial(5)"
   ]
  },
  {
   "cell_type": "markdown",
   "metadata": {},
   "source": [
    "### 4.3.1 Fibonacci Numbers\n",
    "- It has two base cases\n",
    "- In the recursive case,there are two recursive calls"
   ]
  },
  {
   "cell_type": "code",
   "execution_count": 39,
   "metadata": {},
   "outputs": [],
   "source": [
    "def fib(n):\n",
    "    \"\"\" Assumes n int>=0 \n",
    "        Returns Fibonacci of n\"\"\"\n",
    "    if n==0:\n",
    "        return 0\n",
    "    elif n==1:\n",
    "        return 1     \n",
    "    else:\n",
    "        return fib(n-1) + fib(n-2)"
   ]
  },
  {
   "cell_type": "code",
   "execution_count": 40,
   "metadata": {},
   "outputs": [
    {
     "data": {
      "text/plain": [
       "5"
      ]
     },
     "execution_count": 40,
     "metadata": {},
     "output_type": "execute_result"
    }
   ],
   "source": [
    "fib(5)"
   ]
  },
  {
   "cell_type": "markdown",
   "metadata": {},
   "source": [
    "Execution procedures: (all decomposed into base case)\n",
    "step1: <br>fib(5) = fib(4) + fib(3) <br>\n",
    "step2: <br>fib(4)=fib(3) + fib(2) <br> fib(3)=fib(2) + fib(1)<br>\n",
    "step3: <br>\n",
    "fib(3)=fib(2) + fib(1)<br>\n",
    "fib(2)=fib(1) + fib(0)<br>\n",
    "fib(2)=fib(1) + fib(0)<br>\n",
    "fib(1)=fib(0)<br>\n",
    "step4:<br>fib(2) = fib(1) + fib(0)<br>\n",
    "In the end, it is decomposed into base case containing:<br>\n",
    "fib(1) + fib(0) + fib(1) + fib(0) + fib(1) + fib(0) + fib(0) = 5"
   ]
  },
  {
   "cell_type": "markdown",
   "metadata": {},
   "source": [
    "### Pitfalls of recursion \n",
    "https://www.python-course.eu/python3_recursive_functions.php"
   ]
  },
  {
   "cell_type": "code",
   "execution_count": 41,
   "metadata": {},
   "outputs": [],
   "source": [
    "#iterative solution\n",
    "def fibi(n):\n",
    "    old, new = 0, 1\n",
    "    if n == 0:\n",
    "        return 0\n",
    "    for i in range(n-1):\n",
    "        old, new = new, old + new\n",
    "    return new"
   ]
  },
  {
   "cell_type": "code",
   "execution_count": 42,
   "metadata": {},
   "outputs": [
    {
     "data": {
      "text/plain": [
       "5"
      ]
     },
     "execution_count": 42,
     "metadata": {},
     "output_type": "execute_result"
    }
   ],
   "source": [
    "fibi(5)"
   ]
  },
  {
   "cell_type": "code",
   "execution_count": 43,
   "metadata": {},
   "outputs": [],
   "source": [
    "#we can implement a 'memory' for recursive version \n",
    "#by using a dictionary to save the previously calcualted values\n",
    "memo={0:0,1:1}\n",
    "def fibm(n):\n",
    "    if not n in memo:\n",
    "        memo[n]=fibm(n-1) + fibm(n-2)\n",
    "        print (memo[n],'=',fibm(n-1),'+',fibm(n-2))\n",
    "    return memo[n]"
   ]
  },
  {
   "cell_type": "code",
   "execution_count": 44,
   "metadata": {},
   "outputs": [
    {
     "name": "stdout",
     "output_type": "stream",
     "text": [
      "1 = 1 + 0\n",
      "2 = 1 + 1\n",
      "3 = 2 + 1\n",
      "5 = 3 + 2\n"
     ]
    },
    {
     "data": {
      "text/plain": [
       "5"
      ]
     },
     "execution_count": 44,
     "metadata": {},
     "output_type": "execute_result"
    }
   ],
   "source": [
    "fibm(5)"
   ]
  },
  {
   "cell_type": "code",
   "execution_count": 46,
   "metadata": {},
   "outputs": [
    {
     "name": "stdout",
     "output_type": "stream",
     "text": [
      "n= 1, fib: 0.000002, fibi:  0.000004, percent:       0.55\n",
      "n= 2, fib: 0.000004, fibi:  0.000005, percent:       0.85\n",
      "n= 3, fib: 0.000005, fibi:  0.000004, percent:       1.36\n",
      "n= 4, fib: 0.000005, fibi:  0.000003, percent:       1.63\n",
      "n= 5, fib: 0.000008, fibi:  0.000004, percent:       2.10\n",
      "n= 6, fib: 0.000011, fibi:  0.000003, percent:       3.33\n",
      "n= 7, fib: 0.000017, fibi:  0.000005, percent:       3.54\n",
      "n= 8, fib: 0.000044, fibi:  0.000006, percent:       7.56\n",
      "n= 9, fib: 0.000076, fibi:  0.000006, percent:      13.00\n",
      "n=10, fib: 0.000142, fibi:  0.000007, percent:      19.45\n",
      "n=11, fib: 0.000218, fibi:  0.000007, percent:      31.42\n",
      "n=12, fib: 0.000361, fibi:  0.000006, percent:      61.93\n",
      "n=13, fib: 0.000670, fibi:  0.000020, percent:      34.00\n",
      "n=14, fib: 0.000536, fibi:  0.000005, percent:     113.09\n",
      "n=15, fib: 0.001044, fibi:  0.000005, percent:     204.48\n",
      "n=16, fib: 0.002014, fibi:  0.000009, percent:     220.92\n",
      "n=17, fib: 0.003346, fibi:  0.000009, percent:     367.03\n",
      "n=18, fib: 0.005490, fibi:  0.000009, percent:     578.97\n",
      "n=19, fib: 0.005969, fibi:  0.000012, percent:     481.38\n",
      "n=20, fib: 0.009776, fibi:  0.000007, percent:    1410.90\n",
      "n=21, fib: 0.020267, fibi:  0.000007, percent:    2924.95\n",
      "n=22, fib: 0.028409, fibi:  0.000007, percent:    4328.01\n",
      "n=23, fib: 0.038314, fibi:  0.000010, percent:    3752.62\n",
      "n=24, fib: 0.062190, fibi:  0.000006, percent:   10032.28\n",
      "n=25, fib: 0.099422, fibi:  0.000006, percent:   16035.86\n",
      "n=26, fib: 0.152994, fibi:  0.000007, percent:   23308.01\n",
      "n=27, fib: 0.272844, fibi:  0.000008, percent:   35624.02\n",
      "n=28, fib: 0.427458, fibi:  0.000007, percent:   58612.09\n",
      "n=29, fib: 0.661374, fibi:  0.000008, percent:   82434.80\n",
      "n=30, fib: 1.035044, fibi:  0.000008, percent:  135158.56\n",
      "n=31, fib: 1.682047, fibi:  0.000008, percent:  209653.17\n",
      "n=32, fib: 2.701755, fibi:  0.000008, percent:  336751.27\n",
      "n=33, fib: 4.405220, fibi:  0.000008, percent:  549073.93\n",
      "n=34, fib: 7.295667, fibi:  0.000008, percent:  909343.94\n",
      "n=35, fib: 11.451535, fibi:  0.000009, percent: 1256063.89\n",
      "n=36, fib: 18.481598, fibi:  0.000009, percent: 2111700.07\n",
      "n=37, fib: 29.773391, fibi:  0.000009, percent: 3401895.91\n",
      "n=38, fib: 48.862136, fibi:  0.000008, percent: 5825242.40\n",
      "n=39, fib: 79.924181, fibi:  0.000009, percent: 9132104.56\n",
      "n=40, fib: 128.026992, fibi:  0.000010, percent: 13001624.00\n"
     ]
    }
   ],
   "source": [
    "from timeit import Timer\n",
    "\n",
    "t1 = Timer(\"fib(10)\",\"from fib import fib\")\n",
    "\n",
    "for i in range(1,41):\n",
    "\ts = \"fib(\" + str(i) + \")\"\n",
    "\tt1 = Timer(s,\"from fib import fib\")\n",
    "\ttime1 = t1.timeit(3)\n",
    "\ts = \"fibi(\" + str(i) + \")\"\n",
    "\tt2 = Timer(s,\"from fib import fibi\")\n",
    "\ttime2 = t2.timeit(3)\n",
    "\tprint(\"n=%2d, fib: %8.6f, fibi:  %7.6f, percent: %10.2f\" % (i, time1, time2, time1/time2))"
   ]
  },
  {
   "cell_type": "markdown",
   "metadata": {},
   "source": [
    "### 4.3.2 Palindromes\n",
    "Recursion is useful for many problems that do not invovle numbers. The function `isPalindrome` contains two internal **helper functions**."
   ]
  },
  {
   "cell_type": "code",
   "execution_count": 8,
   "metadata": {},
   "outputs": [],
   "source": [
    "def isPalindrome(s):\n",
    "    \"\"\" Assume s is a str\n",
    "        Returns True if leters in s form a palindrome; \n",
    "        False otherwise.\n",
    "        Non-letters and capitalization are ignored.\"\"\"\n",
    "    \n",
    "    def toChars(s):\n",
    "        s=s.lower()\n",
    "        letters = ''\n",
    "        for c in s:\n",
    "            if c in 'abcdefghijklmnopqrstuvwxyz':\n",
    "                letters +=c\n",
    "        return letters\n",
    "    \n",
    "    def isPal(s):\n",
    "        if len(s) <=1:\n",
    "            return True\n",
    "        else:\n",
    "            return s[0] ==s[-1] and isPal(s[1:-1])\n",
    "        \n",
    "    return isPal(toChars(s))"
   ]
  },
  {
   "cell_type": "code",
   "execution_count": 9,
   "metadata": {},
   "outputs": [
    {
     "data": {
      "text/plain": [
       "True"
      ]
     },
     "execution_count": 9,
     "metadata": {},
     "output_type": "execute_result"
    }
   ],
   "source": [
    "isPalindrome('abdba')"
   ]
  },
  {
   "cell_type": "markdown",
   "metadata": {},
   "source": [
    "The helper function `isPal` uses recursion to do the real work. <br>\n",
    "The two base cases are strings of length zero or one.This means that the recursive part of the implementation is reached only on strings of length two or more.<br>\n",
    "This implementation of `isPalindrome` is an example of an important problem-solving principle known as **divide-and-conquer**."
   ]
  },
  {
   "cell_type": "code",
   "execution_count": 14,
   "metadata": {},
   "outputs": [],
   "source": [
    "#added more verbose to visualize how it works\n",
    "def isPalindrome(s):\n",
    "    \"\"\" Assume s is a str\n",
    "        Returns True if leters in s form a palindrome; \n",
    "        False otherwise.\n",
    "        Non-letters and capitalization are ignored.\"\"\"\n",
    "    \n",
    "    def toChars(s):\n",
    "        s=s.lower()\n",
    "        letters = ''\n",
    "        for c in s:\n",
    "            if c in 'abcdefghijklmnopqrstuvwxyz':\n",
    "                letters +=c\n",
    "        return letters\n",
    "    \n",
    "    def isPal(s):\n",
    "        print (' isPal called with',s)\n",
    "        if len(s) <=1:\n",
    "            print (' About to return True from base case')\n",
    "            return True\n",
    "        else:\n",
    "            answer=s[0]==s[-1] and isPal(s[1:-1])\n",
    "            print(' About to return',answer,'for',s)\n",
    "            return answer\n",
    "        \n",
    "    return isPal(toChars(s))"
   ]
  },
  {
   "cell_type": "code",
   "execution_count": 15,
   "metadata": {},
   "outputs": [],
   "source": [
    "def testIsPalindrome(s):\n",
    "    print ('Try ',s)\n",
    "    print (isPalindrome(s))"
   ]
  },
  {
   "cell_type": "code",
   "execution_count": 16,
   "metadata": {},
   "outputs": [
    {
     "name": "stdout",
     "output_type": "stream",
     "text": [
      "Try  dogGod\n",
      " isPal called with doggod\n",
      " isPal called with oggo\n",
      " isPal called with gg\n",
      " isPal called with \n",
      " About to return True from base case\n",
      " About to return True for gg\n",
      " About to return True for oggo\n",
      " About to return True for doggod\n",
      "True\n"
     ]
    }
   ],
   "source": [
    "testIsPalindrome('dogGod')"
   ]
  },
  {
   "cell_type": "markdown",
   "metadata": {},
   "source": [
    "# 5 Structured types, mutability, and higher-order functions"
   ]
  },
  {
   "cell_type": "code",
   "execution_count": 48,
   "metadata": {},
   "outputs": [
    {
     "data": {
      "text/plain": [
       "int"
      ]
     },
     "execution_count": 48,
     "metadata": {},
     "output_type": "execute_result"
    }
   ],
   "source": [
    "type((1))"
   ]
  },
  {
   "cell_type": "code",
   "execution_count": 49,
   "metadata": {},
   "outputs": [
    {
     "data": {
      "text/plain": [
       "tuple"
      ]
     },
     "execution_count": 49,
     "metadata": {},
     "output_type": "execute_result"
    }
   ],
   "source": [
    "type((1,))"
   ]
  },
  {
   "cell_type": "markdown",
   "metadata": {},
   "source": [
    "Note that for singleton tuple, need to write `(n,)`"
   ]
  },
  {
   "cell_type": "code",
   "execution_count": 50,
   "metadata": {},
   "outputs": [
    {
     "data": {
      "text/plain": [
       "('a', 2, 'a', 2, 'a', 2)"
      ]
     },
     "execution_count": 50,
     "metadata": {},
     "output_type": "execute_result"
    }
   ],
   "source": [
    "#repetition can be used\n",
    "3*('a',2)"
   ]
  },
  {
   "cell_type": "markdown",
   "metadata": {},
   "source": [
    "## 5.3 Lists\n",
    "Lists are **mutable**. Tuples and strings are **immutable**.<br>\n",
    "In Python a variable is merely a name, a label that can be attached to an object."
   ]
  },
  {
   "cell_type": "code",
   "execution_count": 51,
   "metadata": {},
   "outputs": [],
   "source": [
    "Techs = ['MIT', 'Caltech']\n",
    "Ivys = ['Harvard', 'Yale', 'Brown']\n",
    "Univs = [Techs, Ivys]\n",
    "Univs1 = [['MIT', 'Caltech'],['Harvard', 'Yale', 'Brown']]"
   ]
  },
  {
   "cell_type": "code",
   "execution_count": 52,
   "metadata": {},
   "outputs": [
    {
     "name": "stdout",
     "output_type": "stream",
     "text": [
      "Univs= [['MIT', 'Caltech'], ['Harvard', 'Yale', 'Brown']]\n"
     ]
    }
   ],
   "source": [
    "print ('Univs=',Univs)"
   ]
  },
  {
   "cell_type": "code",
   "execution_count": 53,
   "metadata": {},
   "outputs": [
    {
     "name": "stdout",
     "output_type": "stream",
     "text": [
      "Univs1 = [['MIT', 'Caltech'], ['Harvard', 'Yale', 'Brown']]\n"
     ]
    }
   ],
   "source": [
    "print('Univs1 =',Univs1)"
   ]
  },
  {
   "cell_type": "code",
   "execution_count": 54,
   "metadata": {},
   "outputs": [
    {
     "name": "stdout",
     "output_type": "stream",
     "text": [
      "True\n"
     ]
    }
   ],
   "source": [
    "print (Univs==Univs1)"
   ]
  },
  {
   "cell_type": "markdown",
   "metadata": {},
   "source": [
    "**However,`Univs` and `Univs1` are actually bound to different objects**<br>\n",
    "Use built-in Python function `id`, which returns a unique integer identifier for an object. This function allows us to test for `object equality`."
   ]
  },
  {
   "cell_type": "code",
   "execution_count": 55,
   "metadata": {},
   "outputs": [
    {
     "name": "stdout",
     "output_type": "stream",
     "text": [
      "2493428781768 2493428782472\n"
     ]
    }
   ],
   "source": [
    "print (id(Univs),id(Univs1))"
   ]
  },
  {
   "cell_type": "code",
   "execution_count": 56,
   "metadata": {},
   "outputs": [
    {
     "name": "stdout",
     "output_type": "stream",
     "text": [
      "False\n"
     ]
    }
   ],
   "source": [
    "print (id(Univs)==id(Univs1))"
   ]
  },
  {
   "cell_type": "code",
   "execution_count": 57,
   "metadata": {},
   "outputs": [
    {
     "data": {
      "text/plain": [
       "int"
      ]
     },
     "execution_count": 57,
     "metadata": {},
     "output_type": "execute_result"
    }
   ],
   "source": [
    "type(id(Univs))"
   ]
  },
  {
   "cell_type": "markdown",
   "metadata": {},
   "source": [
    "Similarly, the elements of `Univs` and `Univs1` are also different objects."
   ]
  },
  {
   "cell_type": "code",
   "execution_count": 58,
   "metadata": {},
   "outputs": [
    {
     "name": "stdout",
     "output_type": "stream",
     "text": [
      "2493428781640 2493427342024\n"
     ]
    }
   ],
   "source": [
    "print (id(Univs[0]), id(Univs[1]))"
   ]
  },
  {
   "cell_type": "code",
   "execution_count": 59,
   "metadata": {},
   "outputs": [
    {
     "name": "stdout",
     "output_type": "stream",
     "text": [
      "2493428019144 2493428781960\n"
     ]
    }
   ],
   "source": [
    "print (id(Univs1[0]),id(Univs1[1]))"
   ]
  },
  {
   "cell_type": "markdown",
   "metadata": {},
   "source": [
    "This is important because `lists` are **mutable**"
   ]
  },
  {
   "cell_type": "code",
   "execution_count": 60,
   "metadata": {},
   "outputs": [],
   "source": [
    "Techs.append('RPI')"
   ]
  },
  {
   "cell_type": "code",
   "execution_count": 64,
   "metadata": {},
   "outputs": [
    {
     "data": {
      "text/plain": [
       "['MIT', 'Caltech', 'RPI']"
      ]
     },
     "execution_count": 64,
     "metadata": {},
     "output_type": "execute_result"
    }
   ],
   "source": [
    "Techs"
   ]
  },
  {
   "cell_type": "code",
   "execution_count": 61,
   "metadata": {},
   "outputs": [
    {
     "data": {
      "text/plain": [
       "[['MIT', 'Caltech', 'RPI'], ['Harvard', 'Yale', 'Brown']]"
      ]
     },
     "execution_count": 61,
     "metadata": {},
     "output_type": "execute_result"
    }
   ],
   "source": [
    "Univs"
   ]
  },
  {
   "cell_type": "code",
   "execution_count": 62,
   "metadata": {},
   "outputs": [
    {
     "data": {
      "text/plain": [
       "[['MIT', 'Caltech'], ['Harvard', 'Yale', 'Brown']]"
      ]
     },
     "execution_count": 62,
     "metadata": {},
     "output_type": "execute_result"
    }
   ],
   "source": [
    "Univs1"
   ]
  },
  {
   "cell_type": "markdown",
   "metadata": {},
   "source": [
    "#### Aliasing\n",
    "There are two **distinct** paths to the same list object. \n",
    "- One path is through the variable `Techs` and \n",
    "- the other through the first element of the `list` object to which `Univs` is bound"
   ]
  },
  {
   "cell_type": "code",
   "execution_count": 65,
   "metadata": {},
   "outputs": [],
   "source": [
    "L1=[1,2,3]\n",
    "L2=[4,5,6]"
   ]
  },
  {
   "cell_type": "code",
   "execution_count": 66,
   "metadata": {},
   "outputs": [],
   "source": [
    "L3=L1+L2"
   ]
  },
  {
   "cell_type": "code",
   "execution_count": 67,
   "metadata": {},
   "outputs": [
    {
     "data": {
      "text/plain": [
       "[1, 2, 3, 4, 5, 6]"
      ]
     },
     "execution_count": 67,
     "metadata": {},
     "output_type": "execute_result"
    }
   ],
   "source": [
    "L3"
   ]
  },
  {
   "cell_type": "code",
   "execution_count": 68,
   "metadata": {},
   "outputs": [],
   "source": [
    "#the strucutre is maintained\n",
    "L1.append(L2)"
   ]
  },
  {
   "cell_type": "code",
   "execution_count": 69,
   "metadata": {},
   "outputs": [
    {
     "data": {
      "text/plain": [
       "[1, 2, 3, [4, 5, 6]]"
      ]
     },
     "execution_count": 69,
     "metadata": {},
     "output_type": "execute_result"
    }
   ],
   "source": [
    "L1"
   ]
  },
  {
   "cell_type": "code",
   "execution_count": 70,
   "metadata": {},
   "outputs": [],
   "source": [
    "L1=[1,2,3]\n",
    "#do not maintain the strucutre\n",
    "#add the elements in\n",
    "L1.extend(L2)"
   ]
  },
  {
   "cell_type": "code",
   "execution_count": 71,
   "metadata": {},
   "outputs": [
    {
     "data": {
      "text/plain": [
       "[1, 2, 3, 4, 5, 6]"
      ]
     },
     "execution_count": 71,
     "metadata": {},
     "output_type": "execute_result"
    }
   ],
   "source": [
    "L1"
   ]
  },
  {
   "cell_type": "markdown",
   "metadata": {},
   "source": [
    "## 5.4 Functions as objects"
   ]
  },
  {
   "cell_type": "code",
   "execution_count": 72,
   "metadata": {},
   "outputs": [
    {
     "name": "stdout",
     "output_type": "stream",
     "text": [
      "1\n",
      "28\n",
      "9\n"
     ]
    }
   ],
   "source": [
    "#built in higher-order function map\n",
    "L1=[1,28,36]\n",
    "L2=[2,30,9]\n",
    "for i in map(min,L1,L2):\n",
    "    print (i)"
   ]
  },
  {
   "cell_type": "markdown",
   "metadata": {},
   "source": [
    "Python support the creation of anonymous functions (functions that are not bound to a name), using `lambda`"
   ]
  },
  {
   "cell_type": "code",
   "execution_count": 73,
   "metadata": {},
   "outputs": [
    {
     "name": "stdout",
     "output_type": "stream",
     "text": [
      "[1, 4, 3, 1]\n"
     ]
    }
   ],
   "source": [
    "L=[]\n",
    "for i in map(lambda x,y:x**y, [1,2,3,4],[3,2,1,0]):\n",
    "    L.append(i)\n",
    "print (L)"
   ]
  },
  {
   "cell_type": "code",
   "execution_count": null,
   "metadata": {},
   "outputs": [],
   "source": []
  }
 ],
 "metadata": {
  "kernelspec": {
   "display_name": "Python 3",
   "language": "python",
   "name": "python3"
  },
  "language_info": {
   "codemirror_mode": {
    "name": "ipython",
    "version": 3
   },
   "file_extension": ".py",
   "mimetype": "text/x-python",
   "name": "python",
   "nbconvert_exporter": "python",
   "pygments_lexer": "ipython3",
   "version": "3.7.1"
  },
  "varInspector": {
   "cols": {
    "lenName": 16,
    "lenType": 16,
    "lenVar": 40
   },
   "kernels_config": {
    "python": {
     "delete_cmd_postfix": "",
     "delete_cmd_prefix": "del ",
     "library": "var_list.py",
     "varRefreshCmd": "print(var_dic_list())"
    },
    "r": {
     "delete_cmd_postfix": ") ",
     "delete_cmd_prefix": "rm(",
     "library": "var_list.r",
     "varRefreshCmd": "cat(var_dic_list()) "
    }
   },
   "types_to_exclude": [
    "module",
    "function",
    "builtin_function_or_method",
    "instance",
    "_Feature"
   ],
   "window_display": false
  }
 },
 "nbformat": 4,
 "nbformat_minor": 2
}
