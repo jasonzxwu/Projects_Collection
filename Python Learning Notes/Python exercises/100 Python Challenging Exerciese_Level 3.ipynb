{
 "cells": [
  {
   "cell_type": "markdown",
   "metadata": {},
   "source": [
    "Question 18\n",
    "Level 3<br>\n",
    "\n",
    "Question:<br>\n",
    "A website requires the users to input username and password to register. Write a program to check the validity of password input by users.<br>\n",
    "Following are the criteria for checking the password:<br>\n",
    "1. At least 1 letter between [a-z]\n",
    "2. At least 1 number between [0-9]\n",
    "1. At least 1 letter between [A-Z]\n",
    "3. At least 1 character from [$#@]\n",
    "4. Minimum length of transaction password: 6\n",
    "5. Maximum length of transaction password: 12 \n",
    "<br> Your program should accept a sequence of comma separated passwords and will check them according to the above criteria. Passwords that match the criteria are to be printed, each separated by a comma.<br>\n",
    "Example<br>\n",
    "If the following passwords are given as input to the program:<br>\n",
    "ABd1234@1,a F1#,2w3E*,2We3345<br>\n",
    "Then, the output of the program should be:<br>\n",
    "ABd1234@1"
   ]
  },
  {
   "cell_type": "code",
   "execution_count": 2,
   "metadata": {},
   "outputs": [
    {
     "name": "stdout",
     "output_type": "stream",
     "text": [
      "ABd1234@1,a F1#,2w3E*,2We3345\n",
      "ABd1234@1\n"
     ]
    }
   ],
   "source": [
    "#ans\n",
    "import re\n",
    "value=[]\n",
    "items = [x for x in input().split(',')]\n",
    "for p in items:\n",
    "    if len(p) < 6 or len(p)>12:\n",
    "        continue\n",
    "    else:\n",
    "        pass\n",
    "    if not re.search('[a-z]',p):\n",
    "        continue\n",
    "    elif not re.search('[0-9]',p):\n",
    "        continue\n",
    "    elif not re.search('[A-Z]',p):\n",
    "        continue\n",
    "    elif not re.search('[S#@]',p):\n",
    "        continue\n",
    "    elif re.search('\\s',p):\n",
    "        continue\n",
    "    else:\n",
    "        pass\n",
    "    value.append(p)\n",
    "print (','.join(value))"
   ]
  },
  {
   "cell_type": "markdown",
   "metadata": {},
   "source": [
    "<font color='red'>Question 19\n",
    "Level 3</font> <br>\n",
    "\n",
    "Question:<br>\n",
    "You are required to write a program to sort the (name, age, height) tuples by ascending order where name is string, age and height are numbers. The tuples are input by console. The sort criteria is:<br>\n",
    "1: Sort based on name;<br>\n",
    "2: Then sort based on age;<br>\n",
    "3: Then sort by score.<br>\n",
    "The priority is that name > age > score.<br>\n",
    "If the following tuples are given as input to the program:<br>\n",
    "Tom,19,80<br>\n",
    "John,20,90<br>\n",
    "Jony,17,91<br>\n",
    "Jony,17,93<br>\n",
    "Json,21,85<br>\n",
    "Then, the output of the program should be:<br>\n",
    "[('John', '20', '90'), ('Jony', '17', '91'), ('Jony', '17', '93'), ('Json', '21', '85'), ('Tom', '19', '80')]"
   ]
  },
  {
   "cell_type": "code",
   "execution_count": 16,
   "metadata": {},
   "outputs": [
    {
     "name": "stdout",
     "output_type": "stream",
     "text": [
      "Tom,19,80\n",
      "John,20,90\n",
      "Jony,17,91\n",
      "\n"
     ]
    }
   ],
   "source": [
    "L=[]\n",
    "while True:\n",
    "    s=input()\n",
    "    if not s:\n",
    "        break\n",
    "    L.append(tuple(s.split(',')))"
   ]
  },
  {
   "cell_type": "code",
   "execution_count": 34,
   "metadata": {},
   "outputs": [
    {
     "name": "stdout",
     "output_type": "stream",
     "text": [
      "['Tom', 'John', 'Jony']\n",
      "['19', '20', '17']\n",
      "['80', '90', '91']\n"
     ]
    }
   ],
   "source": [
    "for n in range(3):\n",
    "    List=[]\n",
    "    for i in range(len(L)):\n",
    "        List.append(L[i][n])\n",
    "    print (List)"
   ]
  },
  {
   "cell_type": "code",
   "execution_count": 28,
   "metadata": {},
   "outputs": [
    {
     "data": {
      "text/plain": [
       "'20'"
      ]
     },
     "execution_count": 28,
     "metadata": {},
     "output_type": "execute_result"
    }
   ],
   "source": [
    "L[1][1]"
   ]
  },
  {
   "cell_type": "code",
   "execution_count": 36,
   "metadata": {},
   "outputs": [],
   "source": [
    "from operator import itemgetter,attrgetter"
   ]
  },
  {
   "cell_type": "code",
   "execution_count": 37,
   "metadata": {},
   "outputs": [
    {
     "data": {
      "text/plain": [
       "[('John', '20', '90'), ('Jony', '17', '91'), ('Tom', '19', '80')]"
      ]
     },
     "execution_count": 37,
     "metadata": {},
     "output_type": "execute_result"
    }
   ],
   "source": [
    "#ans\n",
    "sorted(L,key=itemgetter(0,1,2))"
   ]
  },
  {
   "cell_type": "code",
   "execution_count": 47,
   "metadata": {},
   "outputs": [
    {
     "data": {
      "text/plain": [
       "operator.itemgetter([('Tom', '19', '80'), ('John', '20', '90'), ('Jony', '17', '91')])"
      ]
     },
     "execution_count": 47,
     "metadata": {},
     "output_type": "execute_result"
    }
   ],
   "source": [
    "itemgetter(L)"
   ]
  },
  {
   "cell_type": "markdown",
   "metadata": {},
   "source": [
    "Sorted:it returns a sorted list from the given iterable<br>\n",
    "https://www.programiz.com/python-programming/methods/built-in/sorted<br>\n",
    "https://wiki.python.org/moin/HowTo/Sorting"
   ]
  },
  {
   "cell_type": "code",
   "execution_count": 38,
   "metadata": {},
   "outputs": [
    {
     "data": {
      "text/plain": [
       "['a', 'e', 'i', 'o', 'u']"
      ]
     },
     "execution_count": 38,
     "metadata": {},
     "output_type": "execute_result"
    }
   ],
   "source": [
    "#sort a list\n",
    "sorted(['e', 'a', 'u', 'o', 'i'])"
   ]
  },
  {
   "cell_type": "code",
   "execution_count": 39,
   "metadata": {},
   "outputs": [
    {
     "data": {
      "text/plain": [
       "['a', 'e', 'i', 'o', 'u']"
      ]
     },
     "execution_count": 39,
     "metadata": {},
     "output_type": "execute_result"
    }
   ],
   "source": [
    "#sort a string\n",
    "sorted('eauoi')"
   ]
  },
  {
   "cell_type": "code",
   "execution_count": 41,
   "metadata": {},
   "outputs": [
    {
     "data": {
      "text/plain": [
       "['a', 'e', 'i', 'o', 'u']"
      ]
     },
     "execution_count": 41,
     "metadata": {},
     "output_type": "execute_result"
    }
   ],
   "source": [
    "#sorted a tuple\n",
    "sorted(('e', 'a', 'u', 'o', 'i'))"
   ]
  },
  {
   "cell_type": "code",
   "execution_count": 42,
   "metadata": {},
   "outputs": [
    {
     "data": {
      "text/plain": [
       "['a', 'e', 'i', 'o', 'u']"
      ]
     },
     "execution_count": 42,
     "metadata": {},
     "output_type": "execute_result"
    }
   ],
   "source": [
    "#sort a set\n",
    "sorted({'e', 'a', 'u', 'o', 'i'})"
   ]
  },
  {
   "cell_type": "code",
   "execution_count": 43,
   "metadata": {},
   "outputs": [
    {
     "data": {
      "text/plain": [
       "['a', 'e', 'i', 'o', 'u']"
      ]
     },
     "execution_count": 43,
     "metadata": {},
     "output_type": "execute_result"
    }
   ],
   "source": [
    "#sort a dictionary\n",
    "sorted( {'e': 1, 'a': 2, 'u': 3, 'o': 4, 'i': 5})"
   ]
  },
  {
   "cell_type": "markdown",
   "metadata": {},
   "source": [
    "**Sort the list using `sorted()` with a key function**"
   ]
  },
  {
   "cell_type": "code",
   "execution_count": 44,
   "metadata": {},
   "outputs": [],
   "source": [
    "def takeSecond(e):\n",
    "    return e[1]\n",
    "\n",
    "list2=[(2, 2), (3, 4), (4, 1), (1, 3)]"
   ]
  },
  {
   "cell_type": "code",
   "execution_count": 45,
   "metadata": {},
   "outputs": [
    {
     "data": {
      "text/plain": [
       "[(4, 1), (2, 2), (1, 3), (3, 4)]"
      ]
     },
     "execution_count": 45,
     "metadata": {},
     "output_type": "execute_result"
    }
   ],
   "source": [
    "sorted(list2,key=takeSecond)"
   ]
  },
  {
   "cell_type": "code",
   "execution_count": 46,
   "metadata": {},
   "outputs": [
    {
     "data": {
      "text/plain": [
       "[(3, 4), (1, 3), (2, 2), (4, 1)]"
      ]
     },
     "execution_count": 46,
     "metadata": {},
     "output_type": "execute_result"
    }
   ],
   "source": [
    "sorted(list2,key=takeSecond,reverse=True)"
   ]
  },
  {
   "cell_type": "markdown",
   "metadata": {},
   "source": [
    "**Question 20**\n",
    "Level 3 <br>\n",
    "\n",
    "Question:<br>\n",
    "Define a class with a generator which can iterate the numbers, which are divisible by 7, between a given range 0 and n."
   ]
  },
  {
   "cell_type": "code",
   "execution_count": 48,
   "metadata": {},
   "outputs": [],
   "source": [
    "#ans\n",
    "class iterator(object):\n",
    "    \"\"\"iterate numbers which are divisible by 7, between \n",
    "        a given range int n\"\"\"\n",
    "    def __init__(self,n):\n",
    "        super(iterator,self).__init__()\n",
    "        self.n=n\n",
    "    def divBySeven(self):\n",
    "        for i in range(0,self.n):\n",
    "            if i%7==0:\n",
    "                yield i"
   ]
  },
  {
   "cell_type": "code",
   "execution_count": 49,
   "metadata": {},
   "outputs": [
    {
     "name": "stdout",
     "output_type": "stream",
     "text": [
      "0\n",
      "7\n",
      "14\n",
      "21\n",
      "28\n",
      "35\n",
      "42\n",
      "49\n",
      "56\n",
      "63\n",
      "70\n",
      "77\n",
      "84\n",
      "91\n",
      "98\n"
     ]
    }
   ],
   "source": [
    "for n in iterator(100).divBySeven():\n",
    "    print (n)"
   ]
  },
  {
   "cell_type": "markdown",
   "metadata": {},
   "source": [
    "Question 21\n",
    "Level 3<br>\n",
    "\n",
    "Question<br>\n",
    "A robot moves in a plane starting from the original point (0,0). The robot can move toward UP, DOWN, LEFT and RIGHT with a given steps. <br>\n",
    "\n",
    "The numbers after the direction are steps. Please write a program to compute the distance from current position after a sequence of movement and original point. If the distance is a float, then just print the nearest integer.<br>\n",
    "Example:<br>\n",
    "If the following tuples are given as input to the program:<br>\n",
    "UP 5<br>\n",
    "DOWN 3<br>\n",
    "LEFT 3<br>\n",
    "RIGHT 2<br>\n",
    "Then, the output of the program should be:<br>\n",
    "2"
   ]
  },
  {
   "cell_type": "code",
   "execution_count": 50,
   "metadata": {},
   "outputs": [
    {
     "name": "stdout",
     "output_type": "stream",
     "text": [
      "UP 5\n",
      "DOWN 3\n",
      "LEFT 3\n",
      "RIGHT 2\n",
      "\n",
      "2.0\n"
     ]
    }
   ],
   "source": [
    "while True:\n",
    "    s = input()\n",
    "    if not s:\n",
    "        break\n",
    "    #horizontal distance: length\n",
    "    l=0\n",
    "    #vertical distance:height\n",
    "    h=0\n",
    "    s=s.split()\n",
    "    if s[0]=='UP':\n",
    "        h+=int(s[1])\n",
    "    elif s[0]=='DOWN':\n",
    "        h-=int(s[1])\n",
    "    elif s[0]=='LEFT':\n",
    "        l-=int(s[1])\n",
    "    else:\n",
    "        l+=int(s[1])\n",
    "     #it's better to add an extra line to pass any wrong input   \n",
    "\n",
    "from math import sqrt\n",
    "distance=sqrt(h**2+l**2)\n",
    "print (distance)"
   ]
  },
  {
   "cell_type": "code",
   "execution_count": null,
   "metadata": {},
   "outputs": [],
   "source": []
  }
 ],
 "metadata": {
  "kernelspec": {
   "display_name": "Python 3",
   "language": "python",
   "name": "python3"
  },
  "language_info": {
   "codemirror_mode": {
    "name": "ipython",
    "version": 3
   },
   "file_extension": ".py",
   "mimetype": "text/x-python",
   "name": "python",
   "nbconvert_exporter": "python",
   "pygments_lexer": "ipython3",
   "version": "3.7.1"
  },
  "varInspector": {
   "cols": {
    "lenName": 16,
    "lenType": 16,
    "lenVar": 40
   },
   "kernels_config": {
    "python": {
     "delete_cmd_postfix": "",
     "delete_cmd_prefix": "del ",
     "library": "var_list.py",
     "varRefreshCmd": "print(var_dic_list())"
    },
    "r": {
     "delete_cmd_postfix": ") ",
     "delete_cmd_prefix": "rm(",
     "library": "var_list.r",
     "varRefreshCmd": "cat(var_dic_list()) "
    }
   },
   "types_to_exclude": [
    "module",
    "function",
    "builtin_function_or_method",
    "instance",
    "_Feature"
   ],
   "window_display": false
  }
 },
 "nbformat": 4,
 "nbformat_minor": 2
}
